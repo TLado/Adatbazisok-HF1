{
    "metadata": {
        "kernelspec": {
            "name": "SQL",
            "display_name": "SQL",
            "language": "sql"
        },
        "language_info": {
            "name": "sql",
            "version": ""
        }
    },
    "nbformat_minor": 2,
    "nbformat": 4,
    "cells": [
        {
            "cell_type": "code",
            "source": [
                "-- szall_cim: NULL értékek száma\r\n",
                "SELECT row_type,\r\n",
                "    COUNT(*) row_count\r\n",
                "FROM \r\n",
                "    (SELECT \r\n",
                "        CASE WHEN szall_cim IS NULL THEN 'Null'\r\n",
                "            ELSE 'Non Empty' \r\n",
                "            END AS row_type\r\n",
                "        FROM rendeles) rows\r\n",
                "GROUP BY row_type"
            ],
            "metadata": {
                "azdata_cell_guid": "38e1601b-8a19-4f65-a2a7-00bfbb43d8c5",
                "language": "sql"
            },
            "outputs": [
                {
                    "output_type": "display_data",
                    "data": {
                        "text/html": "(2 rows affected)"
                    },
                    "metadata": {}
                },
                {
                    "output_type": "display_data",
                    "data": {
                        "text/html": "Total execution time: 00:00:00.041"
                    },
                    "metadata": {}
                },
                {
                    "output_type": "execute_result",
                    "execution_count": 5,
                    "data": {
                        "application/vnd.dataresource+json": {
                            "schema": {
                                "fields": [
                                    {
                                        "name": "row_type"
                                    },
                                    {
                                        "name": "row_count"
                                    }
                                ]
                            },
                            "data": [
                                {
                                    "row_type": "Non Empty",
                                    "row_count": "6396"
                                },
                                {
                                    "row_type": "Null",
                                    "row_count": "21689"
                                }
                            ]
                        },
                        "text/html": "<table><tr><th>row_type</th><th>row_count</th></tr><tr><td>Non Empty</td><td>6396</td></tr><tr><td>Null</td><td>21689</td></tr></table>"
                    },
                    "metadata": {
                        "azdata_chartOptions": {
                            "type": "pie",
                            "dataDirection": "vertical",
                            "columnsAsLabels": true,
                            "labelFirstColumn": false,
                            "legendPosition": "top"
                        }
                    }
                }
            ],
            "execution_count": 5
        },
        {
            "cell_type": "code",
            "source": [
                "-- szall_cim: átlagos string hosszúság\r\n",
                "SELECT MIN(LEN(szall_cim)) AS string_length_min, \r\n",
                "       MAX(LEN(szall_cim)) AS string_length_max, \r\n",
                "       AVG(LEN(szall_cim)) AS string_length_avg, \r\n",
                "       ROUND(STDEV(LEN(szall_cim)), 0) AS string_length_stddev, \r\n",
                "       ROUND(VAR(LEN(szall_cim)), 0) AS string_length_var\r\n",
                "FROM rendeles\r\n",
                "WHERE szall_cim IS NOT NULL\r\n",
                "AND LEN(szall_cim) > 0"
            ],
            "metadata": {
                "language": "sql",
                "azdata_cell_guid": "549ad039-29aa-4712-a7e2-4c2739ae350c"
            },
            "outputs": [
                {
                    "output_type": "display_data",
                    "data": {
                        "text/html": "(1 row affected)"
                    },
                    "metadata": {}
                },
                {
                    "output_type": "display_data",
                    "data": {
                        "text/html": "Total execution time: 00:00:00.565"
                    },
                    "metadata": {}
                },
                {
                    "output_type": "execute_result",
                    "execution_count": 21,
                    "data": {
                        "application/vnd.dataresource+json": {
                            "schema": {
                                "fields": [
                                    {
                                        "name": "string_length_min"
                                    },
                                    {
                                        "name": "string_length_max"
                                    },
                                    {
                                        "name": "string_length_avg"
                                    },
                                    {
                                        "name": "string_length_stddev"
                                    },
                                    {
                                        "name": "string_length_var"
                                    }
                                ]
                            },
                            "data": [
                                {
                                    "string_length_min": "13",
                                    "string_length_max": "29",
                                    "string_length_avg": "19",
                                    "string_length_stddev": "3",
                                    "string_length_var": "11"
                                }
                            ]
                        },
                        "text/html": "<table><tr><th>string_length_min</th><th>string_length_max</th><th>string_length_avg</th><th>string_length_stddev</th><th>string_length_var</th></tr><tr><td>13</td><td>29</td><td>19</td><td>3</td><td>11</td></tr></table>"
                    },
                    "metadata": {
                        "azdata_chartOptions": {
                            "type": "bar",
                            "dataDirection": "horizontal",
                            "columnsAsLabels": true,
                            "labelFirstColumn": false,
                            "legendPosition": "top"
                        }
                    }
                }
            ],
            "execution_count": 21
        },
        {
            "cell_type": "code",
            "source": [
                "-- szall_cim: leggyakoribb értékek\r\n",
                "SELECT TOP 10\r\n",
                "    szall_cim AS value, \r\n",
                "    COUNT(*) row_count\r\n",
                "from rendeles\r\n",
                "WHERE szall_cim IS NOT null\r\n",
                "GROUP BY szall_cim\r\n",
                "ORDER BY COUNT(*) desc"
            ],
            "metadata": {
                "language": "sql",
                "azdata_cell_guid": "05283644-2905-4661-865a-8bd6cd256eee"
            },
            "outputs": [
                {
                    "output_type": "display_data",
                    "data": {
                        "text/html": "(10 rows affected)"
                    },
                    "metadata": {}
                },
                {
                    "output_type": "display_data",
                    "data": {
                        "text/html": "Total execution time: 00:00:00.514"
                    },
                    "metadata": {}
                },
                {
                    "output_type": "execute_result",
                    "execution_count": 22,
                    "data": {
                        "application/vnd.dataresource+json": {
                            "schema": {
                                "fields": [
                                    {
                                        "name": "value"
                                    },
                                    {
                                        "name": "row_count"
                                    }
                                ]
                            },
                            "data": [
                                {
                                    "value": "Budapest, Fő u. 2.",
                                    "row_count": "303"
                                },
                                {
                                    "value": "Budapest, Kiss u. 32.",
                                    "row_count": "215"
                                },
                                {
                                    "value": "Győr, Fő u. 2.",
                                    "row_count": "154"
                                },
                                {
                                    "value": "Budapest, Nagy u.14.",
                                    "row_count": "131"
                                },
                                {
                                    "value": "Jászkisér, Fő u. 2.",
                                    "row_count": "123"
                                },
                                {
                                    "value": "Győr, Kiss u. 32.",
                                    "row_count": "93"
                                },
                                {
                                    "value": "Törökszentmiklós, Fő u. 2.",
                                    "row_count": "90"
                                },
                                {
                                    "value": "Ruzsa, Fő u. 2.",
                                    "row_count": "81"
                                },
                                {
                                    "value": "Jászkisér, Kiss u. 32.",
                                    "row_count": "76"
                                },
                                {
                                    "value": "Ruzsa, Kiss u. 32.",
                                    "row_count": "70"
                                }
                            ]
                        },
                        "text/html": "<table><tr><th>value</th><th>row_count</th></tr><tr><td>Budapest, Fő u. 2.</td><td>303</td></tr><tr><td>Budapest, Kiss u. 32.</td><td>215</td></tr><tr><td>Győr, Fő u. 2.</td><td>154</td></tr><tr><td>Budapest, Nagy u.14.</td><td>131</td></tr><tr><td>Jászkisér, Fő u. 2.</td><td>123</td></tr><tr><td>Győr, Kiss u. 32.</td><td>93</td></tr><tr><td>Törökszentmiklós, Fő u. 2.</td><td>90</td></tr><tr><td>Ruzsa, Fő u. 2.</td><td>81</td></tr><tr><td>Jászkisér, Kiss u. 32.</td><td>76</td></tr><tr><td>Ruzsa, Kiss u. 32.</td><td>70</td></tr></table>"
                    },
                    "metadata": {
                        "azdata_chartOptions": {
                            "type": "bar",
                            "dataDirection": "horizontal",
                            "columnsAsLabels": true,
                            "labelFirstColumn": true,
                            "legendPosition": "top",
                            "encoding": "hex",
                            "imageFormat": "jpeg"
                        }
                    }
                }
            ],
            "execution_count": 22
        },
        {
            "cell_type": "code",
            "source": [
                "-- szamla_cim: NULL értékek száma\r\n",
                "SELECT row_type,\r\n",
                "    COUNT(*) row_count\r\n",
                "FROM \r\n",
                "    (SELECT \r\n",
                "        CASE WHEN szamla_cim IS NULL THEN 'Null'\r\n",
                "            ELSE 'Non Empty' \r\n",
                "            END AS row_type\r\n",
                "        FROM rendeles) rows\r\n",
                "GROUP BY row_type"
            ],
            "metadata": {
                "language": "sql",
                "azdata_cell_guid": "d8a279e9-722a-40cc-9165-17deb1c53790"
            },
            "outputs": [
                {
                    "output_type": "display_data",
                    "data": {
                        "text/html": "(2 rows affected)"
                    },
                    "metadata": {}
                },
                {
                    "output_type": "display_data",
                    "data": {
                        "text/html": "Total execution time: 00:00:00.230"
                    },
                    "metadata": {}
                },
                {
                    "output_type": "execute_result",
                    "execution_count": 23,
                    "data": {
                        "application/vnd.dataresource+json": {
                            "schema": {
                                "fields": [
                                    {
                                        "name": "row_type"
                                    },
                                    {
                                        "name": "row_count"
                                    }
                                ]
                            },
                            "data": [
                                {
                                    "row_type": "Non Empty",
                                    "row_count": "2550"
                                },
                                {
                                    "row_type": "Null",
                                    "row_count": "25535"
                                }
                            ]
                        },
                        "text/html": "<table><tr><th>row_type</th><th>row_count</th></tr><tr><td>Non Empty</td><td>2550</td></tr><tr><td>Null</td><td>25535</td></tr></table>"
                    },
                    "metadata": {
                        "azdata_chartOptions": {
                            "type": "pie",
                            "dataDirection": "vertical",
                            "columnsAsLabels": true,
                            "labelFirstColumn": false,
                            "legendPosition": "top"
                        }
                    }
                }
            ],
            "execution_count": 23
        },
        {
            "cell_type": "code",
            "source": [
                "-- szamla_cim: átlagos string hosszúság\r\n",
                "SELECT MIN(LEN(szamla_cim)) AS string_length_min, \r\n",
                "       MAX(LEN(szamla_cim)) AS string_length_max, \r\n",
                "       AVG(LEN(szamla_cim)) AS string_length_avg, \r\n",
                "       ROUND(STDEV(LEN(szamla_cim)), 0) AS string_length_stddev, \r\n",
                "       ROUND(VAR(LEN(szamla_cim)), 0) AS string_length_var\r\n",
                "FROM rendeles\r\n",
                "WHERE szamla_cim IS NOT NULL\r\n",
                "AND LEN(szamla_cim) > 0"
            ],
            "metadata": {
                "language": "sql",
                "azdata_cell_guid": "724e7d89-cf43-494c-8691-b9c124090c7e"
            },
            "outputs": [
                {
                    "output_type": "display_data",
                    "data": {
                        "text/html": "(1 row affected)"
                    },
                    "metadata": {}
                },
                {
                    "output_type": "display_data",
                    "data": {
                        "text/html": "Total execution time: 00:00:00.540"
                    },
                    "metadata": {}
                },
                {
                    "output_type": "execute_result",
                    "execution_count": 25,
                    "data": {
                        "application/vnd.dataresource+json": {
                            "schema": {
                                "fields": [
                                    {
                                        "name": "string_length_min"
                                    },
                                    {
                                        "name": "string_length_max"
                                    },
                                    {
                                        "name": "string_length_avg"
                                    },
                                    {
                                        "name": "string_length_stddev"
                                    },
                                    {
                                        "name": "string_length_var"
                                    }
                                ]
                            },
                            "data": [
                                {
                                    "string_length_min": "18",
                                    "string_length_max": "34",
                                    "string_length_avg": "24",
                                    "string_length_stddev": "3",
                                    "string_length_var": "11"
                                }
                            ]
                        },
                        "text/html": "<table><tr><th>string_length_min</th><th>string_length_max</th><th>string_length_avg</th><th>string_length_stddev</th><th>string_length_var</th></tr><tr><td>18</td><td>34</td><td>24</td><td>3</td><td>11</td></tr></table>"
                    },
                    "metadata": {
                        "azdata_chartOptions": {
                            "type": "bar",
                            "dataDirection": "horizontal",
                            "columnsAsLabels": true,
                            "labelFirstColumn": false,
                            "legendPosition": "top"
                        }
                    }
                }
            ],
            "execution_count": 25
        },
        {
            "cell_type": "code",
            "source": [
                "-- szamla_cim: leggyakoribb értékek\r\n",
                "SELECT TOP 10\r\n",
                "    szamla_cim AS value, \r\n",
                "    COUNT(*) row_count\r\n",
                "from rendeles\r\n",
                "WHERE szamla_cim IS NOT null\r\n",
                "GROUP BY szamla_cim\r\n",
                "ORDER BY COUNT(*) desc"
            ],
            "metadata": {
                "language": "sql",
                "azdata_cell_guid": "f32dd7d6-b231-47b4-a7f3-ee2193b75f66"
            },
            "outputs": [
                {
                    "output_type": "display_data",
                    "data": {
                        "text/html": "(10 rows affected)"
                    },
                    "metadata": {}
                },
                {
                    "output_type": "display_data",
                    "data": {
                        "text/html": "Total execution time: 00:00:00.027"
                    },
                    "metadata": {}
                },
                {
                    "output_type": "execute_result",
                    "execution_count": 17,
                    "data": {
                        "application/vnd.dataresource+json": {
                            "schema": {
                                "fields": [
                                    {
                                        "name": "value"
                                    },
                                    {
                                        "name": "row_count"
                                    }
                                ]
                            },
                            "data": [
                                {
                                    "value": "9023 Győr, Fő u. 2.",
                                    "row_count": "61"
                                },
                                {
                                    "value": "5137 Jászkisér, Fő u. 2.",
                                    "row_count": "54"
                                },
                                {
                                    "value": "9023 Győr, Kiss u. 32.",
                                    "row_count": "41"
                                },
                                {
                                    "value": "5137 Jászkisér, Kiss u. 32.",
                                    "row_count": "40"
                                },
                                {
                                    "value": "5200 Törökszentmiklós, Fő u. 2.",
                                    "row_count": "39"
                                },
                                {
                                    "value": "5071 Besenyszög, Fő u. 2.",
                                    "row_count": "29"
                                },
                                {
                                    "value": "2484 Agárd, Fő u. 2.",
                                    "row_count": "28"
                                },
                                {
                                    "value": "6786 Ruzsa, Fő u. 2.",
                                    "row_count": "28"
                                },
                                {
                                    "value": "2100 Gödöllő, Fő u. 2.",
                                    "row_count": "27"
                                },
                                {
                                    "value": "6646 Tömörkény, Fő u. 2.",
                                    "row_count": "27"
                                }
                            ]
                        },
                        "text/html": "<table><tr><th>value</th><th>row_count</th></tr><tr><td>9023 Győr, Fő u. 2.</td><td>61</td></tr><tr><td>5137 Jászkisér, Fő u. 2.</td><td>54</td></tr><tr><td>9023 Győr, Kiss u. 32.</td><td>41</td></tr><tr><td>5137 Jászkisér, Kiss u. 32.</td><td>40</td></tr><tr><td>5200 Törökszentmiklós, Fő u. 2.</td><td>39</td></tr><tr><td>5071 Besenyszög, Fő u. 2.</td><td>29</td></tr><tr><td>2484 Agárd, Fő u. 2.</td><td>28</td></tr><tr><td>6786 Ruzsa, Fő u. 2.</td><td>28</td></tr><tr><td>2100 Gödöllő, Fő u. 2.</td><td>27</td></tr><tr><td>6646 Tömörkény, Fő u. 2.</td><td>27</td></tr></table>"
                    },
                    "metadata": {
                        "azdata_chartOptions": {
                            "type": "bar",
                            "dataDirection": "horizontal",
                            "columnsAsLabels": true,
                            "labelFirstColumn": true,
                            "legendPosition": "top"
                        }
                    }
                }
            ],
            "execution_count": 17
        }
    ]
}